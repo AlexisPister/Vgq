{
 "cells": [
  {
   "cell_type": "code",
   "execution_count": 1,
   "metadata": {
    "collapsed": true,
    "pycharm": {
     "name": "#%%"
    }
   },
   "outputs": [],
   "source": [
    "import networkx as nx\n",
    "from networkx.algorithms.isomorphism import GraphMatcher"
   ]
  },
  {
   "cell_type": "code",
   "execution_count": 2,
   "outputs": [],
   "source": [
    "G = nx.Graph()\n",
    "G.add_edges_from([(1,2), (2,3), (3,1)])\n",
    "G.nodes[1][\"attr\"] = 20\n",
    "# G.nodes[2][\"attr\"] = 0"
   ],
   "metadata": {
    "collapsed": false,
    "pycharm": {
     "name": "#%%\n"
    }
   }
  },
  {
   "cell_type": "code",
   "execution_count": 18,
   "outputs": [],
   "source": [
    "subG = nx.Graph()\n",
    "subG.add_edges_from([(4,5), (5,6), (6,4)])"
   ],
   "metadata": {
    "collapsed": false,
    "pycharm": {
     "name": "#%%\n"
    }
   }
  },
  {
   "cell_type": "code",
   "execution_count": 20,
   "outputs": [
    {
     "name": "stdout",
     "output_type": "stream",
     "text": [
      "(1, 4)\n",
      "(2, 4)\n",
      "(3, 4)\n",
      "{1: 4, 2: 5, 3: 6}\n",
      "{1: 4, 3: 5, 2: 6}\n",
      "{2: 4, 1: 5, 3: 6}\n",
      "{2: 4, 3: 5, 1: 6}\n",
      "{3: 4, 1: 5, 2: 6}\n",
      "{3: 4, 2: 5, 1: 6}\n"
     ]
    }
   ],
   "source": [
    "GM = GraphMatcher(G, subG)\n",
    "subgraphs_iter = GM.subgraph_monomorphisms_iter()\n",
    "\n",
    "for d in GM.candidate_pairs_iter():\n",
    "    print(d)\n",
    "\n",
    "for g in subgraphs_iter:\n",
    "    print(g)\n"
   ],
   "metadata": {
    "collapsed": false,
    "pycharm": {
     "name": "#%%\n"
    }
   }
  },
  {
   "cell_type": "code",
   "execution_count": 4,
   "outputs": [],
   "source": [
    "def match(G1, G2, node_match):\n",
    "    GM = GraphMatcher(G1, G2, node_match=node_match)\n",
    "    subgraphs_iter = GM.subgraph_monomorphisms_iter()\n",
    "\n",
    "    subgraphs_found = [list(subgraph.keys()) for subgraph in subgraphs_iter]\n",
    "    nodes_matched = {node for subgraph in subgraphs_found for node in subgraph}\n",
    "    print(nodes_matched)"
   ],
   "metadata": {
    "collapsed": false,
    "pycharm": {
     "name": "#%%\n"
    }
   }
  },
  {
   "cell_type": "code",
   "execution_count": 6,
   "outputs": [
    {
     "name": "stdout",
     "output_type": "stream",
     "text": [
      "{'attr': 20}\n",
      "{}\n",
      "{}\n",
      "{}\n",
      "{}\n",
      "{}\n",
      "{}\n",
      "{1, 2, 3}\n"
     ]
    }
   ],
   "source": [
    "# test for condition 1.A < 100\n",
    "\n",
    "def node_match(n1, n2):\n",
    "    print(n1)\n",
    "    if \"attr\" not in n1 and \"attr\" not in n2:\n",
    "        return True\n",
    "    elif \"attr\" not in n2:\n",
    "        return True\n",
    "    elif \"attr\" in n2 and \"attr\" not in n1:\n",
    "        return False\n",
    "\n",
    "    return n1[\"attr\"] < n2[\"attr\"]\n",
    "\n",
    "\n",
    "subG.nodes[1][\"attr\"] = 100\n",
    "match(G, subG, node_match)\n"
   ],
   "metadata": {
    "collapsed": false,
    "pycharm": {
     "name": "#%%\n"
    }
   }
  },
  {
   "cell_type": "code",
   "execution_count": 35,
   "outputs": [
    {
     "name": "stdout",
     "output_type": "stream",
     "text": [
      "hello\n",
      "yes\n"
     ]
    }
   ],
   "source": [
    "eval(\"print('hello')\")\n",
    "\n",
    "x = 6\n",
    "if eval(\"x > 2\"):\n",
    "    print(\"yes\")"
   ],
   "metadata": {
    "collapsed": false,
    "pycharm": {
     "name": "#%%\n"
    }
   }
  },
  {
   "cell_type": "code",
   "execution_count": null,
   "outputs": [],
   "source": [],
   "metadata": {
    "collapsed": false,
    "pycharm": {
     "name": "#%%\n"
    }
   }
  }
 ],
 "metadata": {
  "kernelspec": {
   "display_name": "Python 3",
   "language": "python",
   "name": "python3"
  },
  "language_info": {
   "codemirror_mode": {
    "name": "ipython",
    "version": 2
   },
   "file_extension": ".py",
   "mimetype": "text/x-python",
   "name": "python",
   "nbconvert_exporter": "python",
   "pygments_lexer": "ipython2",
   "version": "2.7.6"
  }
 },
 "nbformat": 4,
 "nbformat_minor": 0
}