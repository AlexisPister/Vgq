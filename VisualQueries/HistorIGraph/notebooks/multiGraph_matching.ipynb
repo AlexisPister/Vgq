{
 "cells": [
  {
   "cell_type": "code",
   "execution_count": 2,
   "metadata": {
    "collapsed": true
   },
   "outputs": [],
   "source": [
    "import networkx as nx\n",
    "from networkx.algorithms.isomorphism import GraphMatcher"
   ]
  },
  {
   "cell_type": "code",
   "execution_count": 26,
   "outputs": [
    {
     "data": {
      "text/plain": "2"
     },
     "execution_count": 26,
     "metadata": {},
     "output_type": "execute_result"
    }
   ],
   "source": [
    "G = nx.MultiGraph()\n",
    "G.add_nodes_from([1,3], at=10)\n",
    "G.add_node(4, at=10)\n",
    "G.add_node(6, at=15)\n",
    "\n",
    "G.add_edge(1,2)\n",
    "# G.add_edge(1,2, et='B')\n",
    "G.add_edge(1,3, key=1)\n",
    "G.add_edge(1,3, key=2)\n",
    "\n",
    "G.add_edge(3,4)\n",
    "G.add_edge(4,5)\n",
    "G.add_edge(4,6, key=1)\n",
    "G.add_edge(4,6, key=2)\n",
    "\n",
    "# G.edges.data()\n"
   ],
   "metadata": {
    "collapsed": false,
    "pycharm": {
     "name": "#%%\n"
    }
   }
  },
  {
   "cell_type": "code",
   "execution_count": 24,
   "outputs": [
    {
     "data": {
      "text/plain": "MultiEdgeDataView([(1, 2), (1, 2), (1, 3)])"
     },
     "execution_count": 24,
     "metadata": {},
     "output_type": "execute_result"
    }
   ],
   "source": [
    "class AC:\n",
    "    def __init__(self, node_ref, value):\n",
    "        self.node_ref = node_ref\n",
    "        self.value = value\n",
    "\n",
    "\n",
    "subG = nx.MultiGraph()\n",
    "subG.add_node(1, at=10)\n",
    "subG.add_node(2, at=AC(1, 10))\n",
    "\n",
    "subG.add_edge(1,2, key=1)\n",
    "subG.add_edge(1,2, key=2)\n",
    "subG.add_edge(1,3)\n",
    "subG.edges()"
   ],
   "metadata": {
    "collapsed": false,
    "pycharm": {
     "name": "#%%\n"
    }
   }
  },
  {
   "cell_type": "code",
   "execution_count": 20,
   "outputs": [],
   "source": [
    "def edge_match(e1, e2):\n",
    "    print(e1)\n",
    "    print(e2)\n",
    "    return e1 == e2\n",
    "\n",
    "\n",
    "def match(G1, G2, node_match=None):\n",
    "    def node_match(n1, n2):\n",
    "\n",
    "    GM = GraphMatcher(G1, G2, edge_match=edge_match)\n",
    "    subgraphs_iter = GM.subgraph_monomorphisms_iter()\n",
    "\n",
    "    subgraphs_found = [list(subgraph.keys()) for subgraph in subgraphs_iter]\n",
    "    nodes_matched = {node for subgraph in subgraphs_found for node in subgraph}\n",
    "    print(subgraphs_found)\n"
   ],
   "metadata": {
    "collapsed": false,
    "pycharm": {
     "name": "#%%\n"
    }
   }
  },
  {
   "cell_type": "code",
   "execution_count": 21,
   "outputs": [
    {
     "name": "stdout",
     "output_type": "stream",
     "text": [
      "{1: {}, 2: {}}\n",
      "{1: {}, 2: {}}\n",
      "{0: {}}\n",
      "{0: {}}\n",
      "{1: {}, 2: {}}\n",
      "{1: {}, 2: {}}\n",
      "{0: {}}\n",
      "{0: {}}\n",
      "{1: {}, 2: {}}\n",
      "{1: {}, 2: {}}\n",
      "{0: {}}\n",
      "{0: {}}\n",
      "{0: {}}\n",
      "{0: {}}\n",
      "{1: {}, 2: {}}\n",
      "{1: {}, 2: {}}\n",
      "[[1, 3, 2], [3, 1, 4], [4, 6, 3], [4, 6, 5]]\n"
     ]
    }
   ],
   "source": [
    "match(G, subG)"
   ],
   "metadata": {
    "collapsed": false,
    "pycharm": {
     "name": "#%%\n"
    }
   }
  },
  {
   "cell_type": "code",
   "execution_count": null,
   "outputs": [],
   "source": [],
   "metadata": {
    "collapsed": false,
    "pycharm": {
     "name": "#%%\n"
    }
   }
  }
 ],
 "metadata": {
  "kernelspec": {
   "display_name": "Python 3",
   "language": "python",
   "name": "python3"
  },
  "language_info": {
   "codemirror_mode": {
    "name": "ipython",
    "version": 2
   },
   "file_extension": ".py",
   "mimetype": "text/x-python",
   "name": "python",
   "nbconvert_exporter": "python",
   "pygments_lexer": "ipython2",
   "version": "2.7.6"
  }
 },
 "nbformat": 4,
 "nbformat_minor": 0
}